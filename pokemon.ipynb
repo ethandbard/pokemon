{
 "cells": [
  {
   "cell_type": "markdown",
   "metadata": {},
   "source": [
    "# Pokemon API \n",
    "\n",
    "![bulbasaur](assets/bulbasaur.png) ![squirtle](assets/squirtle.png) ![charmander](assets/charmander.png) "
   ]
  },
  {
   "cell_type": "code",
   "execution_count": 26,
   "metadata": {},
   "outputs": [],
   "source": [
    "import pokebase as pb\n",
    "import pandas as pd\n",
    "import requests as req\n",
    "from PIL import Image as PILImage\n",
    "from io import BytesIO\n",
    "from IPython.display import Image, Audio, display"
   ]
  },
  {
   "cell_type": "code",
   "execution_count": 2,
   "metadata": {},
   "outputs": [],
   "source": [
    "# get pokemon data\n",
    "# my favorite pokemon\n",
    "larvitar = pb.pokemon('larvitar')"
   ]
  },
  {
   "cell_type": "code",
   "execution_count": 3,
   "metadata": {},
   "outputs": [
    {
     "data": {
      "text/html": [
       "<img src=\"https://raw.githubusercontent.com/PokeAPI/sprites/master/sprites/pokemon/246.png\"/>"
      ],
      "text/plain": [
       "<IPython.core.display.Image object>"
      ]
     },
     "execution_count": 3,
     "metadata": {},
     "output_type": "execute_result"
    }
   ],
   "source": [
    "# show sprite image\n",
    "# larvitar.sprites.front_default\n",
    "# larvitar.sprites.front_shiny\n",
    "\n",
    "Image(url=larvitar.sprites.front_default)"
   ]
  },
  {
   "cell_type": "code",
   "execution_count": 4,
   "metadata": {},
   "outputs": [],
   "source": [
    "# save image to file\n",
    "response = req.get(larvitar.sprites.front_default)\n",
    "png = PILImage.open(BytesIO(response.content))\n",
    "png.save('larvitar.png')"
   ]
  },
  {
   "cell_type": "code",
   "execution_count": 5,
   "metadata": {},
   "outputs": [
    {
     "name": "stdout",
     "output_type": "stream",
     "text": [
      "guts\n",
      "sand-veil\n"
     ]
    }
   ],
   "source": [
    "# pokemon abilities\n",
    "for ability in larvitar.abilities:\n",
    "    print(ability.ability.name)"
   ]
  },
  {
   "cell_type": "code",
   "execution_count": 6,
   "metadata": {},
   "outputs": [
    {
     "name": "stdout",
     "output_type": "stream",
     "text": [
      "rock\n",
      "ground\n"
     ]
    }
   ],
   "source": [
    "# pokemon types\n",
    "for type in larvitar.types:\n",
    "    print(type.type.name)"
   ]
  },
  {
   "cell_type": "code",
   "execution_count": 7,
   "metadata": {},
   "outputs": [
    {
     "name": "stdout",
     "output_type": "stream",
     "text": [
      "It feeds on soil.\n",
      "After it has eaten\n",
      "a large mountain,\fit will fall\n",
      "asleep so it can\n",
      "grow. \n",
      "\n",
      "It is born deep\n",
      "underground. It\n",
      "can't emerge until\fit has entirely\n",
      "consumed the soil\n",
      "around it. \n",
      "\n",
      "Born deep under­\n",
      "ground, this\n",
      "POKéMON becomes a\fpupa after eating\n",
      "enough dirt to\n",
      "make a mountain. \n",
      "\n"
     ]
    }
   ],
   "source": [
    "# flavor text\n",
    "for flavor_text in larvitar.species.flavor_text_entries[0:3]:\n",
    "    if flavor_text.language.name == 'en':\n",
    "        print(flavor_text.flavor_text, '\\n')"
   ]
  },
  {
   "cell_type": "code",
   "execution_count": 8,
   "metadata": {},
   "outputs": [],
   "source": [
    "# View Pokemon from this generation number.\n",
    "# 1 - 9\n",
    "GENERATION = 1\n",
    "\n",
    "# Get API data associated with that particular generation.\n",
    "gen_resource = pb.generation(GENERATION)"
   ]
  },
  {
   "cell_type": "code",
   "execution_count": 9,
   "metadata": {},
   "outputs": [
    {
     "name": "stdout",
     "output_type": "stream",
     "text": [
      "getting data for bulbasaur\n",
      "got data for bulbasaur \n",
      "\n",
      "getting data for charmander\n",
      "got data for charmander \n",
      "\n",
      "getting data for squirtle\n",
      "got data for squirtle \n",
      "\n",
      "getting data for caterpie\n",
      "got data for caterpie \n",
      "\n",
      "getting data for weedle\n",
      "got data for weedle \n",
      "\n",
      "getting data for pidgey\n",
      "got data for pidgey \n",
      "\n",
      "getting data for rattata\n",
      "got data for rattata \n",
      "\n",
      "getting data for spearow\n",
      "got data for spearow \n",
      "\n"
     ]
    }
   ],
   "source": [
    "pokemon_data = {\n",
    "    'Pokemon': [],\n",
    "    'Generation': [],\n",
    "    'Color': [],\n",
    "    'Shape': [],\n",
    "    'Evolves To': [],\n",
    "    'Height': [],\n",
    "    'Weight': [],\n",
    "    'Sprites': [],\n",
    "    'Type 1': [],\n",
    "    'Type 2': [],\n",
    "    'HP': [],\n",
    "    'Attack': [],\n",
    "    'Defense': [],\n",
    "    'Special Attack': [],\n",
    "    'Special Defense': [],\n",
    "    'Speed': []\n",
    "}\n",
    "\n",
    "for poke in gen_resource.pokemon_species[0:8]:\n",
    "    print('getting data for', poke.name)\n",
    "    \n",
    "    pokemon_data['Pokemon'].append(poke.name)\n",
    "    pokemon_data['Generation'].append(poke.generation.name)\n",
    "    pokemon_data['Color'].append(poke.color.name)\n",
    "    pokemon_data['Shape'].append(poke.shape.name)\n",
    "\n",
    "    \n",
    "    \n",
    "    # get next evolution if exists\n",
    "    if len(poke.evolution_chain.chain.evolves_to) == 0:\n",
    "        pokemon_data['Evolves To'].append('None')\n",
    "    else:\n",
    "        pokemon_data['Evolves To'].append(poke.evolution_chain.chain.evolves_to[0].species.name)\n",
    "    \n",
    "    # get pokemon data \n",
    "    this_poke = pb.pokemon(poke.name)\n",
    "    \n",
    "    # get height and weight\n",
    "    pokemon_data['Height'].append(this_poke.height)\n",
    "    pokemon_data['Weight'].append(this_poke.weight)\n",
    "    \n",
    "    # get types\n",
    "    if len(this_poke.types) == 1:\n",
    "        pokemon_data['Type 1'].append(this_poke.types[0].type.name)\n",
    "        pokemon_data['Type 2'].append('None')\n",
    "    else:\n",
    "        pokemon_data['Type 1'].append(this_poke.types[0].type.name)\n",
    "        pokemon_data['Type 2'].append(this_poke.types[1].type.name)\n",
    "    \n",
    "    # get sprite\n",
    "    pokemon_data['Sprites'].append(this_poke.sprites.front_default)\n",
    "    \n",
    "    # get stats\n",
    "    pokemon_data['HP'].append(this_poke.stats[0].base_stat)\n",
    "    pokemon_data['Attack'].append(this_poke.stats[1].base_stat)\n",
    "    pokemon_data['Defense'].append(this_poke.stats[2].base_stat)\n",
    "    pokemon_data['Special Attack'].append(this_poke.stats[3].base_stat)\n",
    "    pokemon_data['Special Defense'].append(this_poke.stats[4].base_stat)\n",
    "    pokemon_data['Speed'].append(this_poke.stats[5].base_stat)\n",
    "    \n",
    "    \n",
    "    print('got data for', poke.name, '\\n')"
   ]
  },
  {
   "cell_type": "code",
   "execution_count": 10,
   "metadata": {},
   "outputs": [
    {
     "data": {
      "text/plain": [
       "{'Pokemon': ['bulbasaur',\n",
       "  'charmander',\n",
       "  'squirtle',\n",
       "  'caterpie',\n",
       "  'weedle',\n",
       "  'pidgey',\n",
       "  'rattata',\n",
       "  'spearow'],\n",
       " 'Generation': ['generation-i',\n",
       "  'generation-i',\n",
       "  'generation-i',\n",
       "  'generation-i',\n",
       "  'generation-i',\n",
       "  'generation-i',\n",
       "  'generation-i',\n",
       "  'generation-i'],\n",
       " 'Color': ['green',\n",
       "  'red',\n",
       "  'blue',\n",
       "  'green',\n",
       "  'brown',\n",
       "  'brown',\n",
       "  'purple',\n",
       "  'brown'],\n",
       " 'Shape': ['quadruped',\n",
       "  'upright',\n",
       "  'upright',\n",
       "  'armor',\n",
       "  'armor',\n",
       "  'wings',\n",
       "  'quadruped',\n",
       "  'wings'],\n",
       " 'Evolves To': ['ivysaur',\n",
       "  'charmeleon',\n",
       "  'wartortle',\n",
       "  'metapod',\n",
       "  'kakuna',\n",
       "  'pidgeotto',\n",
       "  'raticate',\n",
       "  'fearow'],\n",
       " 'Height': [7, 6, 5, 3, 3, 3, 3, 3],\n",
       " 'Weight': [69, 85, 90, 29, 32, 18, 35, 20],\n",
       " 'Sprites': ['https://raw.githubusercontent.com/PokeAPI/sprites/master/sprites/pokemon/1.png',\n",
       "  'https://raw.githubusercontent.com/PokeAPI/sprites/master/sprites/pokemon/4.png',\n",
       "  'https://raw.githubusercontent.com/PokeAPI/sprites/master/sprites/pokemon/7.png',\n",
       "  'https://raw.githubusercontent.com/PokeAPI/sprites/master/sprites/pokemon/10.png',\n",
       "  'https://raw.githubusercontent.com/PokeAPI/sprites/master/sprites/pokemon/13.png',\n",
       "  'https://raw.githubusercontent.com/PokeAPI/sprites/master/sprites/pokemon/16.png',\n",
       "  'https://raw.githubusercontent.com/PokeAPI/sprites/master/sprites/pokemon/19.png',\n",
       "  'https://raw.githubusercontent.com/PokeAPI/sprites/master/sprites/pokemon/21.png'],\n",
       " 'Type 1': ['grass',\n",
       "  'fire',\n",
       "  'water',\n",
       "  'bug',\n",
       "  'bug',\n",
       "  'normal',\n",
       "  'normal',\n",
       "  'normal'],\n",
       " 'Type 2': ['poison',\n",
       "  'None',\n",
       "  'None',\n",
       "  'None',\n",
       "  'poison',\n",
       "  'flying',\n",
       "  'None',\n",
       "  'flying'],\n",
       " 'HP': [45, 39, 44, 45, 40, 40, 30, 40],\n",
       " 'Attack': [49, 52, 48, 30, 35, 45, 56, 60],\n",
       " 'Defense': [49, 43, 65, 35, 30, 40, 35, 30],\n",
       " 'Special Attack': [65, 60, 50, 20, 20, 35, 25, 31],\n",
       " 'Special Defense': [65, 50, 64, 20, 20, 35, 35, 31],\n",
       " 'Speed': [45, 65, 43, 45, 50, 56, 72, 70]}"
      ]
     },
     "execution_count": 10,
     "metadata": {},
     "output_type": "execute_result"
    }
   ],
   "source": [
    "pokemon_data"
   ]
  },
  {
   "cell_type": "code",
   "execution_count": 15,
   "metadata": {},
   "outputs": [],
   "source": [
    "# save each image to assets folder\n",
    "for i, sprite in enumerate(pokemon_data['Sprites']):\n",
    "    response = req.get(sprite)\n",
    "    img = PILImage.open(BytesIO(response.content))\n",
    "    img.save('assets/' + pokemon_data['Pokemon'][i] + '.png')"
   ]
  },
  {
   "cell_type": "code",
   "execution_count": 13,
   "metadata": {},
   "outputs": [],
   "source": [
    "# make dataframe from pokemon_data\n",
    "pokemon_df = pd.DataFrame(pokemon_data)"
   ]
  },
  {
   "cell_type": "code",
   "execution_count": 14,
   "metadata": {},
   "outputs": [
    {
     "data": {
      "text/html": [
       "<div>\n",
       "<style scoped>\n",
       "    .dataframe tbody tr th:only-of-type {\n",
       "        vertical-align: middle;\n",
       "    }\n",
       "\n",
       "    .dataframe tbody tr th {\n",
       "        vertical-align: top;\n",
       "    }\n",
       "\n",
       "    .dataframe thead th {\n",
       "        text-align: right;\n",
       "    }\n",
       "</style>\n",
       "<table border=\"1\" class=\"dataframe\">\n",
       "  <thead>\n",
       "    <tr style=\"text-align: right;\">\n",
       "      <th></th>\n",
       "      <th>Pokemon</th>\n",
       "      <th>Generation</th>\n",
       "      <th>Color</th>\n",
       "      <th>Shape</th>\n",
       "      <th>Evolves To</th>\n",
       "      <th>Height</th>\n",
       "      <th>Weight</th>\n",
       "      <th>Sprites</th>\n",
       "      <th>Type 1</th>\n",
       "      <th>Type 2</th>\n",
       "      <th>HP</th>\n",
       "      <th>Attack</th>\n",
       "      <th>Defense</th>\n",
       "      <th>Special Attack</th>\n",
       "      <th>Special Defense</th>\n",
       "      <th>Speed</th>\n",
       "    </tr>\n",
       "  </thead>\n",
       "  <tbody>\n",
       "    <tr>\n",
       "      <th>0</th>\n",
       "      <td>bulbasaur</td>\n",
       "      <td>generation-i</td>\n",
       "      <td>green</td>\n",
       "      <td>quadruped</td>\n",
       "      <td>ivysaur</td>\n",
       "      <td>7</td>\n",
       "      <td>69</td>\n",
       "      <td>https://raw.githubusercontent.com/PokeAPI/spri...</td>\n",
       "      <td>grass</td>\n",
       "      <td>poison</td>\n",
       "      <td>45</td>\n",
       "      <td>49</td>\n",
       "      <td>49</td>\n",
       "      <td>65</td>\n",
       "      <td>65</td>\n",
       "      <td>45</td>\n",
       "    </tr>\n",
       "    <tr>\n",
       "      <th>1</th>\n",
       "      <td>charmander</td>\n",
       "      <td>generation-i</td>\n",
       "      <td>red</td>\n",
       "      <td>upright</td>\n",
       "      <td>charmeleon</td>\n",
       "      <td>6</td>\n",
       "      <td>85</td>\n",
       "      <td>https://raw.githubusercontent.com/PokeAPI/spri...</td>\n",
       "      <td>fire</td>\n",
       "      <td>None</td>\n",
       "      <td>39</td>\n",
       "      <td>52</td>\n",
       "      <td>43</td>\n",
       "      <td>60</td>\n",
       "      <td>50</td>\n",
       "      <td>65</td>\n",
       "    </tr>\n",
       "    <tr>\n",
       "      <th>2</th>\n",
       "      <td>squirtle</td>\n",
       "      <td>generation-i</td>\n",
       "      <td>blue</td>\n",
       "      <td>upright</td>\n",
       "      <td>wartortle</td>\n",
       "      <td>5</td>\n",
       "      <td>90</td>\n",
       "      <td>https://raw.githubusercontent.com/PokeAPI/spri...</td>\n",
       "      <td>water</td>\n",
       "      <td>None</td>\n",
       "      <td>44</td>\n",
       "      <td>48</td>\n",
       "      <td>65</td>\n",
       "      <td>50</td>\n",
       "      <td>64</td>\n",
       "      <td>43</td>\n",
       "    </tr>\n",
       "    <tr>\n",
       "      <th>3</th>\n",
       "      <td>caterpie</td>\n",
       "      <td>generation-i</td>\n",
       "      <td>green</td>\n",
       "      <td>armor</td>\n",
       "      <td>metapod</td>\n",
       "      <td>3</td>\n",
       "      <td>29</td>\n",
       "      <td>https://raw.githubusercontent.com/PokeAPI/spri...</td>\n",
       "      <td>bug</td>\n",
       "      <td>None</td>\n",
       "      <td>45</td>\n",
       "      <td>30</td>\n",
       "      <td>35</td>\n",
       "      <td>20</td>\n",
       "      <td>20</td>\n",
       "      <td>45</td>\n",
       "    </tr>\n",
       "    <tr>\n",
       "      <th>4</th>\n",
       "      <td>weedle</td>\n",
       "      <td>generation-i</td>\n",
       "      <td>brown</td>\n",
       "      <td>armor</td>\n",
       "      <td>kakuna</td>\n",
       "      <td>3</td>\n",
       "      <td>32</td>\n",
       "      <td>https://raw.githubusercontent.com/PokeAPI/spri...</td>\n",
       "      <td>bug</td>\n",
       "      <td>poison</td>\n",
       "      <td>40</td>\n",
       "      <td>35</td>\n",
       "      <td>30</td>\n",
       "      <td>20</td>\n",
       "      <td>20</td>\n",
       "      <td>50</td>\n",
       "    </tr>\n",
       "    <tr>\n",
       "      <th>5</th>\n",
       "      <td>pidgey</td>\n",
       "      <td>generation-i</td>\n",
       "      <td>brown</td>\n",
       "      <td>wings</td>\n",
       "      <td>pidgeotto</td>\n",
       "      <td>3</td>\n",
       "      <td>18</td>\n",
       "      <td>https://raw.githubusercontent.com/PokeAPI/spri...</td>\n",
       "      <td>normal</td>\n",
       "      <td>flying</td>\n",
       "      <td>40</td>\n",
       "      <td>45</td>\n",
       "      <td>40</td>\n",
       "      <td>35</td>\n",
       "      <td>35</td>\n",
       "      <td>56</td>\n",
       "    </tr>\n",
       "    <tr>\n",
       "      <th>6</th>\n",
       "      <td>rattata</td>\n",
       "      <td>generation-i</td>\n",
       "      <td>purple</td>\n",
       "      <td>quadruped</td>\n",
       "      <td>raticate</td>\n",
       "      <td>3</td>\n",
       "      <td>35</td>\n",
       "      <td>https://raw.githubusercontent.com/PokeAPI/spri...</td>\n",
       "      <td>normal</td>\n",
       "      <td>None</td>\n",
       "      <td>30</td>\n",
       "      <td>56</td>\n",
       "      <td>35</td>\n",
       "      <td>25</td>\n",
       "      <td>35</td>\n",
       "      <td>72</td>\n",
       "    </tr>\n",
       "    <tr>\n",
       "      <th>7</th>\n",
       "      <td>spearow</td>\n",
       "      <td>generation-i</td>\n",
       "      <td>brown</td>\n",
       "      <td>wings</td>\n",
       "      <td>fearow</td>\n",
       "      <td>3</td>\n",
       "      <td>20</td>\n",
       "      <td>https://raw.githubusercontent.com/PokeAPI/spri...</td>\n",
       "      <td>normal</td>\n",
       "      <td>flying</td>\n",
       "      <td>40</td>\n",
       "      <td>60</td>\n",
       "      <td>30</td>\n",
       "      <td>31</td>\n",
       "      <td>31</td>\n",
       "      <td>70</td>\n",
       "    </tr>\n",
       "  </tbody>\n",
       "</table>\n",
       "</div>"
      ],
      "text/plain": [
       "      Pokemon    Generation   Color      Shape  Evolves To  Height  Weight  \\\n",
       "0   bulbasaur  generation-i   green  quadruped     ivysaur       7      69   \n",
       "1  charmander  generation-i     red    upright  charmeleon       6      85   \n",
       "2    squirtle  generation-i    blue    upright   wartortle       5      90   \n",
       "3    caterpie  generation-i   green      armor     metapod       3      29   \n",
       "4      weedle  generation-i   brown      armor      kakuna       3      32   \n",
       "5      pidgey  generation-i   brown      wings   pidgeotto       3      18   \n",
       "6     rattata  generation-i  purple  quadruped    raticate       3      35   \n",
       "7     spearow  generation-i   brown      wings      fearow       3      20   \n",
       "\n",
       "                                             Sprites  Type 1  Type 2  HP  \\\n",
       "0  https://raw.githubusercontent.com/PokeAPI/spri...   grass  poison  45   \n",
       "1  https://raw.githubusercontent.com/PokeAPI/spri...    fire    None  39   \n",
       "2  https://raw.githubusercontent.com/PokeAPI/spri...   water    None  44   \n",
       "3  https://raw.githubusercontent.com/PokeAPI/spri...     bug    None  45   \n",
       "4  https://raw.githubusercontent.com/PokeAPI/spri...     bug  poison  40   \n",
       "5  https://raw.githubusercontent.com/PokeAPI/spri...  normal  flying  40   \n",
       "6  https://raw.githubusercontent.com/PokeAPI/spri...  normal    None  30   \n",
       "7  https://raw.githubusercontent.com/PokeAPI/spri...  normal  flying  40   \n",
       "\n",
       "   Attack  Defense  Special Attack  Special Defense  Speed  \n",
       "0      49       49              65               65     45  \n",
       "1      52       43              60               50     65  \n",
       "2      48       65              50               64     43  \n",
       "3      30       35              20               20     45  \n",
       "4      35       30              20               20     50  \n",
       "5      45       40              35               35     56  \n",
       "6      56       35              25               35     72  \n",
       "7      60       30              31               31     70  "
      ]
     },
     "execution_count": 14,
     "metadata": {},
     "output_type": "execute_result"
    }
   ],
   "source": [
    "pokemon_df"
   ]
  },
  {
   "cell_type": "code",
   "execution_count": 30,
   "metadata": {},
   "outputs": [],
   "source": [
    "# save dataframe to csv\n",
    "pokemon_df.to_csv('pokemon.csv', index=False)"
   ]
  },
  {
   "cell_type": "code",
   "execution_count": 36,
   "metadata": {},
   "outputs": [
    {
     "data": {
      "text/plain": [
       "'ivysaur'"
      ]
     },
     "execution_count": 36,
     "metadata": {},
     "output_type": "execute_result"
    }
   ],
   "source": [
    "pokemon_df[pokemon_df['Pokemon'] == 'bulbasaur']['Evolves To'].values[0]"
   ]
  },
  {
   "cell_type": "code",
   "execution_count": 29,
   "metadata": {},
   "outputs": [
    {
     "data": {
      "text/html": [
       "\n",
       "                <audio  controls=\"controls\" autoplay=\"autoplay\">\n",
       "                    <source src=\"assets/level_up.mp3\" type=\"audio/mpeg\" />\n",
       "                    Your browser does not support the audio element.\n",
       "                </audio>\n",
       "              "
      ],
      "text/plain": [
       "<IPython.lib.display.Audio object>"
      ]
     },
     "metadata": {},
     "output_type": "display_data"
    }
   ],
   "source": [
    "# play level up sound\n",
    "\n",
    "def play_level_up():\n",
    "    display(Audio(url='assets/level_up.mp3', autoplay=True))\n",
    "play_level_up()"
   ]
  }
 ],
 "metadata": {
  "kernelspec": {
   "display_name": "Python 3",
   "language": "python",
   "name": "python3"
  },
  "language_info": {
   "codemirror_mode": {
    "name": "ipython",
    "version": 3
   },
   "file_extension": ".py",
   "mimetype": "text/x-python",
   "name": "python",
   "nbconvert_exporter": "python",
   "pygments_lexer": "ipython3",
   "version": "3.11.4"
  },
  "orig_nbformat": 4
 },
 "nbformat": 4,
 "nbformat_minor": 2
}
