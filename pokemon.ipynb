{
 "cells": [
  {
   "cell_type": "code",
   "execution_count": 18,
   "metadata": {},
   "outputs": [],
   "source": [
    "import pokebase as pb\n",
    "import requests as req\n",
    "from PIL import Image\n",
    "from io import BytesIO\n",
    "\n",
    "# View Pokemon from this generation number.\n",
    "GENERATION = 1\n",
    "\n",
    "# Get API data associated with that particular generation.\n",
    "gen_resource = pb.generation(GENERATION)"
   ]
  },
  {
   "cell_type": "markdown",
   "metadata": {},
   "source": [
    "![bulbasaur](bulbasaur.png) ![squirtle](squirtle.png) ![charmander](charmander.png) "
   ]
  },
  {
   "cell_type": "code",
   "execution_count": 55,
   "metadata": {},
   "outputs": [],
   "source": [
    "# make list of all pokemon data\n",
    "pokemon_list = []\n",
    "for pokemon in gen_resource.pokemon_species:\n",
    "    pokemon_list.append(pokemon.name)"
   ]
  },
  {
   "cell_type": "code",
   "execution_count": 57,
   "metadata": {},
   "outputs": [
    {
     "data": {
      "text/html": [
       "<div>\n",
       "<style scoped>\n",
       "    .dataframe tbody tr th:only-of-type {\n",
       "        vertical-align: middle;\n",
       "    }\n",
       "\n",
       "    .dataframe tbody tr th {\n",
       "        vertical-align: top;\n",
       "    }\n",
       "\n",
       "    .dataframe thead th {\n",
       "        text-align: right;\n",
       "    }\n",
       "</style>\n",
       "<table border=\"1\" class=\"dataframe\">\n",
       "  <thead>\n",
       "    <tr style=\"text-align: right;\">\n",
       "      <th></th>\n",
       "      <th>Pokemon</th>\n",
       "    </tr>\n",
       "  </thead>\n",
       "  <tbody>\n",
       "    <tr>\n",
       "      <th>0</th>\n",
       "      <td>bulbasaur</td>\n",
       "    </tr>\n",
       "    <tr>\n",
       "      <th>1</th>\n",
       "      <td>charmander</td>\n",
       "    </tr>\n",
       "    <tr>\n",
       "      <th>2</th>\n",
       "      <td>squirtle</td>\n",
       "    </tr>\n",
       "    <tr>\n",
       "      <th>3</th>\n",
       "      <td>caterpie</td>\n",
       "    </tr>\n",
       "    <tr>\n",
       "      <th>4</th>\n",
       "      <td>weedle</td>\n",
       "    </tr>\n",
       "    <tr>\n",
       "      <th>...</th>\n",
       "      <td>...</td>\n",
       "    </tr>\n",
       "    <tr>\n",
       "      <th>146</th>\n",
       "      <td>dragonair</td>\n",
       "    </tr>\n",
       "    <tr>\n",
       "      <th>147</th>\n",
       "      <td>dragonite</td>\n",
       "    </tr>\n",
       "    <tr>\n",
       "      <th>148</th>\n",
       "      <td>mew</td>\n",
       "    </tr>\n",
       "    <tr>\n",
       "      <th>149</th>\n",
       "      <td>ivysaur</td>\n",
       "    </tr>\n",
       "    <tr>\n",
       "      <th>150</th>\n",
       "      <td>golem</td>\n",
       "    </tr>\n",
       "  </tbody>\n",
       "</table>\n",
       "<p>151 rows × 1 columns</p>\n",
       "</div>"
      ],
      "text/plain": [
       "        Pokemon\n",
       "0     bulbasaur\n",
       "1    charmander\n",
       "2      squirtle\n",
       "3      caterpie\n",
       "4        weedle\n",
       "..          ...\n",
       "146   dragonair\n",
       "147   dragonite\n",
       "148         mew\n",
       "149     ivysaur\n",
       "150       golem\n",
       "\n",
       "[151 rows x 1 columns]"
      ]
     },
     "execution_count": 57,
     "metadata": {},
     "output_type": "execute_result"
    }
   ],
   "source": [
    "pokemon_list\n",
    "\n",
    "# convert to pandas dataframe\n",
    "import pandas as pd\n",
    "pokemon_df = pd.DataFrame(pokemon_list, columns=['Pokemon'])\n",
    "\n",
    "pokemon_df"
   ]
  },
  {
   "cell_type": "code",
   "execution_count": 29,
   "metadata": {},
   "outputs": [],
   "source": [
    "# get pokemon data\n",
    "larvitar = pb.pokemon('larvitar')"
   ]
  },
  {
   "cell_type": "code",
   "execution_count": 52,
   "metadata": {},
   "outputs": [
    {
     "name": "stdout",
     "output_type": "stream",
     "text": [
      "guts\n",
      "sand-veil\n"
     ]
    }
   ],
   "source": [
    "for ability in larvitar.abilities:\n",
    "    print(ability.ability.name)"
   ]
  },
  {
   "cell_type": "code",
   "execution_count": 107,
   "metadata": {},
   "outputs": [
    {
     "data": {
      "text/html": [
       "<img src=\"https://raw.githubusercontent.com/PokeAPI/sprites/master/sprites/pokemon/246.png\"/>"
      ],
      "text/plain": [
       "<IPython.core.display.Image object>"
      ]
     },
     "execution_count": 107,
     "metadata": {},
     "output_type": "execute_result"
    }
   ],
   "source": [
    "larvitar.sprites.front_default\n",
    "\n",
    "# show image of pokemon\n",
    "from IPython.display import Image\n",
    "Image(url=larvitar.sprites.front_default)\n"
   ]
  },
  {
   "cell_type": "code",
   "execution_count": 108,
   "metadata": {},
   "outputs": [
    {
     "data": {
      "text/html": [
       "<img src=\"https://raw.githubusercontent.com/PokeAPI/sprites/master/sprites/pokemon/shiny/246.png\"/>"
      ],
      "text/plain": [
       "<IPython.core.display.Image object>"
      ]
     },
     "execution_count": 108,
     "metadata": {},
     "output_type": "execute_result"
    }
   ],
   "source": [
    "Image(url=larvitar.sprites.front_shiny)"
   ]
  },
  {
   "cell_type": "code",
   "execution_count": 78,
   "metadata": {},
   "outputs": [],
   "source": [
    "# save image to file\n",
    "import requests as req\n",
    "from PIL import Image\n",
    "from io import BytesIO\n",
    "\n",
    "response = req.get(larvitar.sprites.front_default)\n",
    "img = Image.open(BytesIO(response.content))\n",
    "img.save('larvitar.png')"
   ]
  },
  {
   "cell_type": "code",
   "execution_count": 95,
   "metadata": {},
   "outputs": [
    {
     "name": "stdout",
     "output_type": "stream",
     "text": [
      "rock\n",
      "ground\n"
     ]
    }
   ],
   "source": [
    "# pokemon types\n",
    "for type in larvitar.types:\n",
    "    print(type.type.name)"
   ]
  },
  {
   "cell_type": "code",
   "execution_count": 96,
   "metadata": {},
   "outputs": [
    {
     "data": {
      "text/plain": [
       "'pupitar'"
      ]
     },
     "execution_count": 96,
     "metadata": {},
     "output_type": "execute_result"
    }
   ],
   "source": [
    "# evolves to\n",
    "evolves_to = larvitar.species.evolution_chain.chain.evolves_to[0].species.name\n",
    "evolves_to"
   ]
  },
  {
   "cell_type": "code",
   "execution_count": 109,
   "metadata": {},
   "outputs": [
    {
     "data": {
      "text/html": [
       "<img src=\"https://raw.githubusercontent.com/PokeAPI/sprites/master/sprites/pokemon/247.png\"/>"
      ],
      "text/plain": [
       "<IPython.core.display.Image object>"
      ]
     },
     "execution_count": 109,
     "metadata": {},
     "output_type": "execute_result"
    }
   ],
   "source": [
    "evolves_to_sprite = pb.pokemon(evolves_to).sprites.front_default\n",
    "Image(url=evolves_to_sprite)"
   ]
  },
  {
   "cell_type": "code",
   "execution_count": 163,
   "metadata": {},
   "outputs": [
    {
     "data": {
      "text/plain": [
       "'pupitar'"
      ]
     },
     "execution_count": 163,
     "metadata": {},
     "output_type": "execute_result"
    }
   ],
   "source": [
    "larvitar.species.evolution_chain.chain.evolves_to[0].species.name"
   ]
  },
  {
   "cell_type": "code",
   "execution_count": 184,
   "metadata": {},
   "outputs": [
    {
     "data": {
      "text/plain": [
       "'http://pokeapi.co/api/v2/pokemon-species/1/'"
      ]
     },
     "execution_count": 184,
     "metadata": {},
     "output_type": "execute_result"
    }
   ],
   "source": []
  },
  {
   "cell_type": "code",
   "execution_count": 187,
   "metadata": {},
   "outputs": [
    {
     "name": "stdout",
     "output_type": "stream",
     "text": [
      "getting data for bulbasaur\n",
      "got data for bulbasaur\n",
      "getting data for charmander\n",
      "got data for charmander\n",
      "getting data for squirtle\n",
      "got data for squirtle\n",
      "getting data for caterpie\n",
      "got data for caterpie\n",
      "getting data for weedle\n",
      "got data for weedle\n",
      "getting data for pidgey\n",
      "got data for pidgey\n",
      "getting data for rattata\n",
      "got data for rattata\n",
      "getting data for spearow\n",
      "got data for spearow\n"
     ]
    }
   ],
   "source": [
    "pokemon = []\n",
    "generation = []\n",
    "color = []\n",
    "shape = []\n",
    "evolves_to = []\n",
    "sprites = []\n",
    "\n",
    "for poke in gen_resource.pokemon_species[0:8]:\n",
    "    print('getting data for', poke.name)\n",
    "    \n",
    "    pokemon.append(poke.name)\n",
    "    generation.append(poke.generation.name)\n",
    "    color.append(poke.color.name)\n",
    "    shape.append(poke.shape.name)\n",
    "    \n",
    "    # get next evolution if exists\n",
    "    if len(poke.evolution_chain.chain.evolves_to) == 0:\n",
    "        evolves_to.append('None')\n",
    "    else:\n",
    "        evolves_to.append(poke.evolution_chain.chain.evolves_to[0].species.name)\n",
    "    \n",
    "    # get pokemon data \n",
    "    this_poke = pb.pokemon(poke.name)\n",
    "    \n",
    "    sprites.append(this_poke.sprites.front_default)\n",
    "    \n",
    "    print('got data for', poke.name, '\\n')"
   ]
  },
  {
   "cell_type": "code",
   "execution_count": 188,
   "metadata": {},
   "outputs": [],
   "source": [
    "# make dataframe from pokemon, gender_rate, and is_legendary\n",
    "pokemon_df = pd.DataFrame({'pokemon': pokemon, \n",
    "                           'generation': generation, \n",
    "                           'color': color, \n",
    "                           'shape': shape, \n",
    "                           'evolves_to': evolves_to,\n",
    "                           'sprites': sprites})\n",
    "\n"
   ]
  },
  {
   "cell_type": "code",
   "execution_count": 189,
   "metadata": {},
   "outputs": [
    {
     "data": {
      "text/html": [
       "<div>\n",
       "<style scoped>\n",
       "    .dataframe tbody tr th:only-of-type {\n",
       "        vertical-align: middle;\n",
       "    }\n",
       "\n",
       "    .dataframe tbody tr th {\n",
       "        vertical-align: top;\n",
       "    }\n",
       "\n",
       "    .dataframe thead th {\n",
       "        text-align: right;\n",
       "    }\n",
       "</style>\n",
       "<table border=\"1\" class=\"dataframe\">\n",
       "  <thead>\n",
       "    <tr style=\"text-align: right;\">\n",
       "      <th></th>\n",
       "      <th>pokemon</th>\n",
       "      <th>generation</th>\n",
       "      <th>color</th>\n",
       "      <th>shape</th>\n",
       "      <th>evolves_to</th>\n",
       "      <th>sprites</th>\n",
       "    </tr>\n",
       "  </thead>\n",
       "  <tbody>\n",
       "    <tr>\n",
       "      <th>0</th>\n",
       "      <td>bulbasaur</td>\n",
       "      <td>generation-i</td>\n",
       "      <td>green</td>\n",
       "      <td>quadruped</td>\n",
       "      <td>ivysaur</td>\n",
       "      <td>https://raw.githubusercontent.com/PokeAPI/spri...</td>\n",
       "    </tr>\n",
       "    <tr>\n",
       "      <th>1</th>\n",
       "      <td>charmander</td>\n",
       "      <td>generation-i</td>\n",
       "      <td>red</td>\n",
       "      <td>upright</td>\n",
       "      <td>charmeleon</td>\n",
       "      <td>https://raw.githubusercontent.com/PokeAPI/spri...</td>\n",
       "    </tr>\n",
       "    <tr>\n",
       "      <th>2</th>\n",
       "      <td>squirtle</td>\n",
       "      <td>generation-i</td>\n",
       "      <td>blue</td>\n",
       "      <td>upright</td>\n",
       "      <td>wartortle</td>\n",
       "      <td>https://raw.githubusercontent.com/PokeAPI/spri...</td>\n",
       "    </tr>\n",
       "    <tr>\n",
       "      <th>3</th>\n",
       "      <td>caterpie</td>\n",
       "      <td>generation-i</td>\n",
       "      <td>green</td>\n",
       "      <td>armor</td>\n",
       "      <td>metapod</td>\n",
       "      <td>https://raw.githubusercontent.com/PokeAPI/spri...</td>\n",
       "    </tr>\n",
       "    <tr>\n",
       "      <th>4</th>\n",
       "      <td>weedle</td>\n",
       "      <td>generation-i</td>\n",
       "      <td>brown</td>\n",
       "      <td>armor</td>\n",
       "      <td>kakuna</td>\n",
       "      <td>https://raw.githubusercontent.com/PokeAPI/spri...</td>\n",
       "    </tr>\n",
       "    <tr>\n",
       "      <th>5</th>\n",
       "      <td>pidgey</td>\n",
       "      <td>generation-i</td>\n",
       "      <td>brown</td>\n",
       "      <td>wings</td>\n",
       "      <td>pidgeotto</td>\n",
       "      <td>https://raw.githubusercontent.com/PokeAPI/spri...</td>\n",
       "    </tr>\n",
       "    <tr>\n",
       "      <th>6</th>\n",
       "      <td>rattata</td>\n",
       "      <td>generation-i</td>\n",
       "      <td>purple</td>\n",
       "      <td>quadruped</td>\n",
       "      <td>raticate</td>\n",
       "      <td>https://raw.githubusercontent.com/PokeAPI/spri...</td>\n",
       "    </tr>\n",
       "    <tr>\n",
       "      <th>7</th>\n",
       "      <td>spearow</td>\n",
       "      <td>generation-i</td>\n",
       "      <td>brown</td>\n",
       "      <td>wings</td>\n",
       "      <td>fearow</td>\n",
       "      <td>https://raw.githubusercontent.com/PokeAPI/spri...</td>\n",
       "    </tr>\n",
       "  </tbody>\n",
       "</table>\n",
       "</div>"
      ],
      "text/plain": [
       "      pokemon    generation   color      shape  evolves_to  \\\n",
       "0   bulbasaur  generation-i   green  quadruped     ivysaur   \n",
       "1  charmander  generation-i     red    upright  charmeleon   \n",
       "2    squirtle  generation-i    blue    upright   wartortle   \n",
       "3    caterpie  generation-i   green      armor     metapod   \n",
       "4      weedle  generation-i   brown      armor      kakuna   \n",
       "5      pidgey  generation-i   brown      wings   pidgeotto   \n",
       "6     rattata  generation-i  purple  quadruped    raticate   \n",
       "7     spearow  generation-i   brown      wings      fearow   \n",
       "\n",
       "                                             sprites  \n",
       "0  https://raw.githubusercontent.com/PokeAPI/spri...  \n",
       "1  https://raw.githubusercontent.com/PokeAPI/spri...  \n",
       "2  https://raw.githubusercontent.com/PokeAPI/spri...  \n",
       "3  https://raw.githubusercontent.com/PokeAPI/spri...  \n",
       "4  https://raw.githubusercontent.com/PokeAPI/spri...  \n",
       "5  https://raw.githubusercontent.com/PokeAPI/spri...  \n",
       "6  https://raw.githubusercontent.com/PokeAPI/spri...  \n",
       "7  https://raw.githubusercontent.com/PokeAPI/spri...  "
      ]
     },
     "execution_count": 189,
     "metadata": {},
     "output_type": "execute_result"
    }
   ],
   "source": [
    "pokemon_df"
   ]
  },
  {
   "cell_type": "code",
   "execution_count": 193,
   "metadata": {},
   "outputs": [
    {
     "data": {
      "text/plain": [
       "'https://raw.githubusercontent.com/PokeAPI/sprites/master/sprites/pokemon/1.png'"
      ]
     },
     "execution_count": 193,
     "metadata": {},
     "output_type": "execute_result"
    }
   ],
   "source": [
    "pokemon_df['sprites'][0]"
   ]
  },
  {
   "cell_type": "code",
   "execution_count": 222,
   "metadata": {},
   "outputs": [
    {
     "name": "stdout",
     "output_type": "stream",
     "text": [
      "Pokemon: bulbasaur\n",
      "Sprite: https://raw.githubusercontent.com/PokeAPI/sprites/master/sprites/pokemon/1.png\n",
      "Pokemon: charmander\n",
      "Sprite: https://raw.githubusercontent.com/PokeAPI/sprites/master/sprites/pokemon/4.png\n",
      "Pokemon: squirtle\n",
      "Sprite: https://raw.githubusercontent.com/PokeAPI/sprites/master/sprites/pokemon/7.png\n",
      "Pokemon: caterpie\n",
      "Sprite: https://raw.githubusercontent.com/PokeAPI/sprites/master/sprites/pokemon/10.png\n",
      "Pokemon: weedle\n",
      "Sprite: https://raw.githubusercontent.com/PokeAPI/sprites/master/sprites/pokemon/13.png\n",
      "Pokemon: pidgey\n",
      "Sprite: https://raw.githubusercontent.com/PokeAPI/sprites/master/sprites/pokemon/16.png\n",
      "Pokemon: rattata\n",
      "Sprite: https://raw.githubusercontent.com/PokeAPI/sprites/master/sprites/pokemon/19.png\n",
      "Pokemon: spearow\n",
      "Sprite: https://raw.githubusercontent.com/PokeAPI/sprites/master/sprites/pokemon/21.png\n"
     ]
    }
   ],
   "source": [
    "from PIL import Image\n",
    "\n",
    "# save images to file\n",
    "for row in pokemon_df.iterrows():\n",
    "    print(f\"Pokemon: {row[1]['pokemon']}\")\n",
    "    print(f\"Sprite: {row[1]['sprites']}\")\n",
    "    # save image to file\n",
    "    response = req.get(row[1]['sprites'])\n",
    "    img = Image.open(BytesIO(response.content))\n",
    "    img.save(f\"{row[1]['pokemon']}.png\")"
   ]
  },
  {
   "cell_type": "markdown",
   "metadata": {},
   "source": [
    "![bulbasaur](bulbasaur.png) ![squirtle](squirtle.png) ![charmander](charmander.png) "
   ]
  },
  {
   "cell_type": "code",
   "execution_count": null,
   "metadata": {},
   "outputs": [],
   "source": []
  }
 ],
 "metadata": {
  "kernelspec": {
   "display_name": "Python 3",
   "language": "python",
   "name": "python3"
  },
  "language_info": {
   "codemirror_mode": {
    "name": "ipython",
    "version": 3
   },
   "file_extension": ".py",
   "mimetype": "text/x-python",
   "name": "python",
   "nbconvert_exporter": "python",
   "pygments_lexer": "ipython3",
   "version": "3.11.4"
  },
  "orig_nbformat": 4
 },
 "nbformat": 4,
 "nbformat_minor": 2
}
